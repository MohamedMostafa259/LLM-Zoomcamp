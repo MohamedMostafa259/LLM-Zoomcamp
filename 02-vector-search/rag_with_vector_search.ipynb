{
 "cells": [
  {
   "cell_type": "markdown",
   "id": "c9296e3a",
   "metadata": {},
   "source": [
    "Let's downloads Qdrant’s Docker image, then run Qdrant locally, expose its APIs, and ensure stored data survives container restarts.\n",
    "\n",
    "```bash\n",
    "docker pull qdrant/qdrant\n",
    "\n",
    "docker run -p 6333:6333 -p 6334:6334 \\\n",
    "   -v \"$(pwd)/qdrant_storage:/qdrant/storage:z\" \\\n",
    "   qdrant/qdrant"
   ]
  },
  {
   "cell_type": "code",
   "execution_count": 30,
   "id": "2f14c5e7",
   "metadata": {},
   "outputs": [],
   "source": [
    "import requests\n",
    "from openai import OpenAI\n",
    "from dotenv import load_dotenv, find_dotenv\n",
    "import os\n",
    "from qdrant_client import QdrantClient, models"
   ]
  },
  {
   "cell_type": "code",
   "execution_count": 31,
   "id": "94a049a7",
   "metadata": {},
   "outputs": [],
   "source": [
    "embedding_dim = 512\n",
    "collection_name = 'zoomcamp-faq'\n",
    "embedding_model_handle = 'jinaai/jina-embeddings-v2-small-en'\n",
    "llm_model_handle = 'meta-llama/llama-4-scout-17b-16e-instruct'"
   ]
  },
  {
   "cell_type": "code",
   "execution_count": 32,
   "id": "cf16df51",
   "metadata": {},
   "outputs": [],
   "source": [
    "docs_url = 'https://github.com/DataTalksClub/llm-zoomcamp/blob/main/01-intro/documents.json?raw=1'\n",
    "docs_response = requests.get(docs_url)\n",
    "docs_raw = docs_response.json()"
   ]
  },
  {
   "cell_type": "code",
   "execution_count": 33,
   "id": "e8a4b6c3",
   "metadata": {},
   "outputs": [],
   "source": [
    "documents = []\n",
    "for course in docs_raw:\n",
    "\tcourse_name = course['course']\n",
    "\tfor doc in course['documents']:\n",
    "\t\tdoc['course'] = course_name\n",
    "\t\tdocuments.append(doc)"
   ]
  },
  {
   "cell_type": "code",
   "execution_count": 34,
   "id": "8a07b1fc",
   "metadata": {},
   "outputs": [
    {
     "data": {
      "text/plain": [
       "True"
      ]
     },
     "execution_count": 34,
     "metadata": {},
     "output_type": "execute_result"
    }
   ],
   "source": [
    "qdrant_client = QdrantClient(\"http://localhost:6333\")\n",
    "\n",
    "qdrant_client.delete_collection(collection_name=collection_name)\n",
    "qdrant_client.create_collection(\n",
    "    collection_name=collection_name, \n",
    "    vectors_config=models.VectorParams(\n",
    "        size=embedding_dim, \n",
    "        distance=models.Distance.COSINE\n",
    "    )\n",
    ")"
   ]
  },
  {
   "cell_type": "code",
   "execution_count": 35,
   "id": "cc1e5c61",
   "metadata": {},
   "outputs": [],
   "source": [
    "points = []\n",
    "\n",
    "for id, doc in enumerate(documents):\n",
    "    text = f\"Question: {doc['question']}\\nAnswer: {doc['text']}\"\n",
    "    point = models.PointStruct(\n",
    "        id=id, \n",
    "        vector=models.Document(text=text, model=embedding_model_handle), \n",
    "        payload=doc\n",
    "    )\n",
    "    points.append(point)"
   ]
  },
  {
   "cell_type": "code",
   "execution_count": 36,
   "id": "1961872d",
   "metadata": {},
   "outputs": [
    {
     "data": {
      "text/plain": [
       "UpdateResult(operation_id=0, status=<UpdateStatus.COMPLETED: 'completed'>)"
      ]
     },
     "execution_count": 36,
     "metadata": {},
     "output_type": "execute_result"
    }
   ],
   "source": [
    "qdrant_client.upsert(\n",
    "    collection_name=collection_name, \n",
    "    points=points\n",
    ")"
   ]
  },
  {
   "cell_type": "code",
   "execution_count": 37,
   "id": "695612cb",
   "metadata": {},
   "outputs": [
    {
     "data": {
      "text/plain": [
       "UpdateResult(operation_id=2, status=<UpdateStatus.COMPLETED: 'completed'>)"
      ]
     },
     "execution_count": 37,
     "metadata": {},
     "output_type": "execute_result"
    }
   ],
   "source": [
    "qdrant_client.create_payload_index(\n",
    "    collection_name=collection_name, \n",
    "    field_name='course', \n",
    "    field_schema='keyword' # exact matching on string metadata fields\n",
    ")"
   ]
  },
  {
   "cell_type": "code",
   "execution_count": 38,
   "id": "ed712c66",
   "metadata": {},
   "outputs": [],
   "source": [
    "def vector_search(query, course='machine-learning-zoomcamp', limit=1):\n",
    "    results = qdrant_client.query_points(\n",
    "        collection_name=collection_name, \n",
    "        query=models.Document(text=query, model=embedding_model_handle),\n",
    "        query_filter=models.Filter(\n",
    "            must=[\n",
    "                models.FieldCondition(\n",
    "                    key='course',\n",
    "                    match=models.MatchValue(value=course)\n",
    "                )\n",
    "            ]\n",
    "        ), \n",
    "        limit=limit, \n",
    "        with_payload=True\n",
    "    )\n",
    "    return results"
   ]
  },
  {
   "cell_type": "code",
   "execution_count": 39,
   "id": "c7151eb6",
   "metadata": {},
   "outputs": [],
   "source": [
    "load_dotenv(find_dotenv()) # automatic search\n",
    "groq_api_key = os.getenv(\"GROQ_API_KEY\")"
   ]
  },
  {
   "cell_type": "code",
   "execution_count": 40,
   "id": "b199cb23",
   "metadata": {},
   "outputs": [],
   "source": [
    "groq_client = OpenAI(api_key=groq_api_key, base_url='https://api.groq.com/openai/v1')"
   ]
  },
  {
   "cell_type": "code",
   "execution_count": 41,
   "id": "75cfec42",
   "metadata": {},
   "outputs": [],
   "source": [
    "def build_prompt(query, search_results):\t\n",
    "\t# It's a good practice to give the llm you're use a role\n",
    "\tprompt_template = \"\"\"\n",
    "You're a teaching assistant. Answer the QUESTION below using the CONTEXT provided below. \n",
    "Use only the information in the CONTEXT that's relevant to the QUESTION (ignore irrelavant ones).\n",
    "\n",
    "QUESTION: {question}\n",
    "\n",
    "CONTEXT: {context}\n",
    "\"\"\"\n",
    "\n",
    "\tcontext = ''\n",
    "\tfor doc in search_results.points:\n",
    "\t\tcontext += f'section: {doc.payload['section']}\\nquestion: {doc.payload['question']}\\nanswer: {doc.payload['text']}\\n\\n'\n",
    "\n",
    "\tprompt = prompt_template.format(question=query, context=context).strip()\n",
    "\treturn prompt"
   ]
  },
  {
   "cell_type": "code",
   "execution_count": 42,
   "id": "7381ce1f",
   "metadata": {},
   "outputs": [],
   "source": [
    "def llm(prompt):\n",
    "\tresponse = groq_client.chat.completions.create(\n",
    "\t\tmodel=llm_model_handle, \n",
    "\t\tmessages=[\n",
    "\t\t\t{'role': 'user', 'content': prompt}\n",
    "\t\t]\n",
    "\t)\n",
    "\treturn response.choices[0].message.content"
   ]
  },
  {
   "cell_type": "code",
   "execution_count": 43,
   "id": "79f9f169",
   "metadata": {},
   "outputs": [],
   "source": [
    "def rag(query):\n",
    "    search_results = vector_search(query, limit=5)\n",
    "    prompt = build_prompt(query, search_results)\n",
    "    answer = llm(prompt)\n",
    "    return answer"
   ]
  },
  {
   "cell_type": "code",
   "execution_count": 44,
   "id": "09b95c68",
   "metadata": {},
   "outputs": [
    {
     "name": "stdout",
     "output_type": "stream",
     "text": [
      "Yes, you can still enroll in the course even though it has already started. You won't be able to submit some of the homeworks, but you can still take part in the course. To be eligible for a certificate, you need to submit 2 out of 3 course projects and review 3 peers' projects by the deadline.\n"
     ]
    }
   ],
   "source": [
    "query = \"the course has already started, can I still enroll?\"\n",
    "print(rag(query))"
   ]
  },
  {
   "cell_type": "code",
   "execution_count": null,
   "id": "ac3a8ee0",
   "metadata": {},
   "outputs": [],
   "source": []
  }
 ],
 "metadata": {
  "kernelspec": {
   "display_name": "Python 3",
   "language": "python",
   "name": "python3"
  },
  "language_info": {
   "codemirror_mode": {
    "name": "ipython",
    "version": 3
   },
   "file_extension": ".py",
   "mimetype": "text/x-python",
   "name": "python",
   "nbconvert_exporter": "python",
   "pygments_lexer": "ipython3",
   "version": "3.12.1"
  }
 },
 "nbformat": 4,
 "nbformat_minor": 5
}
