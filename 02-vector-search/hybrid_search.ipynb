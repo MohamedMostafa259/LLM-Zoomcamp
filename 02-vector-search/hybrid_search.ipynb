{
 "cells": [
  {
   "cell_type": "code",
   "execution_count": 1,
   "id": "79d85317",
   "metadata": {},
   "outputs": [
    {
     "name": "stderr",
     "output_type": "stream",
     "text": [
      "/usr/local/python/3.12.1/lib/python3.12/site-packages/tqdm/auto.py:21: TqdmWarning: IProgress not found. Please update jupyter and ipywidgets. See https://ipywidgets.readthedocs.io/en/stable/user_install.html\n",
      "  from .autonotebook import tqdm as notebook_tqdm\n"
     ]
    }
   ],
   "source": [
    "from qdrant_client import QdrantClient, models\n",
    "import requests\n",
    "import uuid"
   ]
  },
  {
   "cell_type": "code",
   "execution_count": 2,
   "id": "5ab07a41",
   "metadata": {},
   "outputs": [],
   "source": [
    "docs_url = 'https://github.com/DataTalksClub/llm-zoomcamp/blob/main/01-intro/documents.json?raw=1'\n",
    "docs_response = requests.get(docs_url)\n",
    "docs_raw = docs_response.json()\n",
    "\n",
    "documents = []\n",
    "for course in docs_raw:\n",
    "\tcourse_name = course['course']\n",
    "\tfor doc in course['documents']:\n",
    "\t\tdoc['course'] = course_name\n",
    "\t\tdocuments.append(doc)"
   ]
  },
  {
   "cell_type": "code",
   "execution_count": 3,
   "id": "600a8358",
   "metadata": {},
   "outputs": [],
   "source": [
    "embedding_dim = 512\n",
    "embedding_model_handle = 'jinaai/jina-embeddings-v2-small-en'\n",
    "sparse_model_handle = 'Qdrant/bm25'\n",
    "sparse_collection_name = \"zoomcamp-sparse\"\n",
    "sparseAndDense_collection_name = \"zoomcamp-sparse-and-dense\""
   ]
  },
  {
   "cell_type": "markdown",
   "id": "1df6102d",
   "metadata": {},
   "source": [
    "Let's downloads Qdrant’s Docker image, then run Qdrant locally, expose its APIs, and ensure stored data survives container restarts.\n",
    "\n",
    "```bash\n",
    "docker pull qdrant/qdrant\n",
    "\n",
    "docker run -p 6333:6333 -p 6334:6334 \\\n",
    "   -v \"$(pwd)/qdrant_storage:/qdrant/storage:z\" \\\n",
    "   qdrant/qdrant"
   ]
  },
  {
   "cell_type": "code",
   "execution_count": 5,
   "id": "1772f98b",
   "metadata": {},
   "outputs": [
    {
     "data": {
      "text/plain": [
       "CollectionsResponse(collections=[CollectionDescription(name='zoomcamp-sparse'), CollectionDescription(name='zoomcamp-faq'), CollectionDescription(name='zoomcamp-rag')])"
      ]
     },
     "execution_count": 5,
     "metadata": {},
     "output_type": "execute_result"
    }
   ],
   "source": [
    "client = QdrantClient('http://localhost:6333')\n",
    "client.get_collections()"
   ]
  },
  {
   "cell_type": "code",
   "execution_count": 7,
   "id": "52ac65c3",
   "metadata": {},
   "outputs": [
    {
     "data": {
      "text/plain": [
       "True"
      ]
     },
     "execution_count": 7,
     "metadata": {},
     "output_type": "execute_result"
    }
   ],
   "source": [
    "client.delete_collection(collection_name=sparse_collection_name)\n",
    "client.create_collection(\n",
    "    collection_name=sparse_collection_name, \n",
    "    sparse_vectors_config={\n",
    "        'bm25': models.SparseVectorParams(\n",
    "            modifier=models.Modifier.IDF, \n",
    "        )\n",
    "    }\n",
    ")"
   ]
  },
  {
   "cell_type": "markdown",
   "id": "80e54a10",
   "metadata": {},
   "source": [
    "```python\n",
    "id=uuid.uuid4().hex\n",
    "```\n",
    "\n",
    "* `uuid` is a Python module that generates **universally unique identifiers**.\n",
    "* `uuid.uuid4()` generates a **random UUID** (version 4).\n",
    "* `.hex` converts it to a **32-character hexadecimal string** (128 bits long → there are 2¹²⁸ possible UUIDs, so the probability of generating the same UUID twice is astronomically low, essentially zero for any practical application).\n",
    "\n",
    "Each point you send to the Qdrant collection gets a **unique ID**, so Qdrant can track it individually."
   ]
  },
  {
   "cell_type": "code",
   "execution_count": 8,
   "id": "8814bf70",
   "metadata": {},
   "outputs": [
    {
     "name": "stderr",
     "output_type": "stream",
     "text": [
      "Fetching 18 files: 100%|██████████| 18/18 [00:00<00:00, 28.97it/s]\n"
     ]
    },
    {
     "data": {
      "text/plain": [
       "UpdateResult(operation_id=0, status=<UpdateStatus.COMPLETED: 'completed'>)"
      ]
     },
     "execution_count": 8,
     "metadata": {},
     "output_type": "execute_result"
    }
   ],
   "source": [
    "client.upsert(\n",
    "    collection_name=sparse_collection_name, \n",
    "    points=[\n",
    "        models.PointStruct(\n",
    "            id=uuid.uuid4().hex, \n",
    "            vector={\n",
    "                'bm25': models.Document(\n",
    "                    text=doc['text'], \n",
    "                    model=sparse_model_handle\n",
    "                )\n",
    "            }, \n",
    "            payload=doc\n",
    "        )\n",
    "        for doc in documents\n",
    "    ]\n",
    ")"
   ]
  },
  {
   "cell_type": "code",
   "execution_count": 9,
   "id": "a9528ddd",
   "metadata": {},
   "outputs": [],
   "source": [
    "def search(query, limit=1):\n",
    "    results = client.query_points(\n",
    "        collection_name=sparse_collection_name,\n",
    "        query=models.Document(text=query, model=sparse_model_handle), \n",
    "        using='bm25', \n",
    "        limit=limit, \n",
    "        with_payload=True\n",
    "    )\n",
    "    return results.points"
   ]
  },
  {
   "cell_type": "code",
   "execution_count": 10,
   "id": "762e0b20",
   "metadata": {},
   "outputs": [
    {
     "data": {
      "text/plain": [
       "[]"
      ]
     },
     "execution_count": 10,
     "metadata": {},
     "output_type": "execute_result"
    }
   ],
   "source": [
    "search('Qdrant')"
   ]
  },
  {
   "cell_type": "markdown",
   "id": "9aac31c5",
   "metadata": {},
   "source": [
    "Scores returned by BM25 are not calculated with cosine similarity, but with BM25 formula. \n",
    "\n",
    "They are not bounded to a specific range, but are virtually unbounded. "
   ]
  },
  {
   "cell_type": "code",
   "execution_count": 11,
   "id": "afd6fcbd",
   "metadata": {},
   "outputs": [
    {
     "data": {
      "text/plain": [
       "[ScoredPoint(id='9342ea3e-4ea3-4f4b-97dc-c19e6ea4fca2', version=0, score=8.2663765, payload={'text': \"✅SOLUTION: pip install confluent-kafka[avro].\\nFor some reason, Conda also doesn't include this when installing confluent-kafka via pip.\\nMore sources on Anaconda and confluent-kafka issues:\\nhttps://github.com/confluentinc/confluent-kafka-python/issues/590\\nhttps://github.com/confluentinc/confluent-kafka-python/issues/1221\\nhttps://stackoverflow.com/questions/69085157/cannot-import-producer-from-confluent-kafka\", 'section': 'Module 6: streaming with kafka', 'question': \"ModuleNotFoundError: No module named 'avro'\", 'course': 'data-engineering-zoomcamp'}, vector=None, shard_key=None, order_value=None)]"
      ]
     },
     "execution_count": 11,
     "metadata": {},
     "output_type": "execute_result"
    }
   ],
   "source": [
    "search('Kafka')"
   ]
  },
  {
   "cell_type": "code",
   "execution_count": 21,
   "id": "a7cdff50",
   "metadata": {},
   "outputs": [
    {
     "name": "stdout",
     "output_type": "stream",
     "text": [
      "{\n",
      "  \"text\": \"Failed to save '<file>': Unable to write file 'vscode-remote://ssh-remote+de-zoomcamp/home/<user>/data_engineering_course/week_2/airflow/dags/<file>' (NoPermissions (FileSystemError): Error: EACCES: permission denied, open '/home/<user>/data_engineering_course/week_2/airflow/dags/<file>')\\nYou need to change the owner of the files you are trying to edit via VS Code. You can run the following command to change the ownership.\\nssh\\nsudo chown -R <user> <path to your directory>\",\n",
      "  \"section\": \"Module 1: Docker and Terraform\",\n",
      "  \"question\": \"GCP VM - Error while saving the file in VM via VS Code\",\n",
      "  \"course\": \"data-engineering-zoomcamp\"\n",
      "}\n",
      "\n",
      "BM25 Search Result:\n",
      "My SSH connection to AWS cannot last more than a few minutes, whether via terminal or VS code.\n",
      "My config:\n",
      "# Copy Configuration in local nano editor, then Save it!\n",
      "Host mlops-zoomcamp                                         # ssh connection calling name\n",
      "User ubuntu                                             # username AWS EC2\n",
      "HostName <instance-public-IPv4-addr>                    # Public IP, it changes when Source EC2 is turned off.\n",
      "IdentityFile ~/.ssh/name-of-your-private-key-file.pem   # Private SSH key file path\n",
      "LocalForward 8888 localhost:8888                        # Connecting to a service on an internal network from the outside, static forward or set port user forward via on vscode\n",
      "StrictHostKeyChecking no\n",
      "Added by Muhammed Çelik\n",
      "The disconnection will occur whether I SSH via WSL2 or via VS Code, and usually occurs after I run some code, i.e. “import mlflow”, so not particularly intense computation.\n",
      "I cannot reconnect to the instance without stopping and restarting with a new IPv4 address.\n",
      "I’ve gone through steps listed on this page: https://aws.amazon.com/premiumsupport/knowledge-center/ec2-linux-resolve-ssh-connection-errors/\n",
      "Inbound rule should allow all incoming IPs for SSH.\n",
      "What I expect to happen:\n",
      "SSH connection should remain while I’m actively using the instance, and if it does disconnect, I should be able to reconnect back.\n",
      "Solution: sometimes the hang ups are caused by the instance running out of memory. In one instance, using EC2 feature to view screenshot of the instance as a means to troubleshoot, it was the OS out-of-memory feature which killed off some critical processes. In this case, if we can’t use a higher compute VM with more RAM, try adding a swap file, which uses the disk as RAM substitute and prevents the OOM error. Follow Ubuntu’s documentation here: https://help.ubuntu.com/community/SwapFaq.\n",
      "Alternatively follow AWS’s own doc, which mirrors Ubuntu’s: https://aws.amazon.com/premiumsupport/knowledge-center/ec2-memory-swap-file/\n"
     ]
    }
   ],
   "source": [
    "import random\n",
    "import json\n",
    "\n",
    "random.seed(1)\n",
    "random_doc = random.choice(documents)\n",
    "print(json.dumps(random_doc, indent=2))\n",
    "print(f\"\\nBM25 Search Result:\\n{search(random_doc['question'])[0].payload['text']}\")"
   ]
  },
  {
   "cell_type": "markdown",
   "id": "d504c137",
   "metadata": {},
   "source": [
    "BAD !!! We need to integrate this BM25 traditional search with semantic search, creating **hybrid search**."
   ]
  },
  {
   "cell_type": "markdown",
   "id": "e20ca8e5",
   "metadata": {},
   "source": [
    "**Hybrid Search** combines multiple retrieval methods (dense + sparse) in a **multi-stage pipeline**. Often **sequential**:\n",
    "  1. Retrieve candidates using one method (dense or sparse).\n",
    "  2. Rerank using another method.\n",
    "\n",
    "```ascii\n",
    "┌─────────────┐           ┌─────────────┐\n",
    "│             │           │             │\n",
    "│  Retrieval  │ ────────► │  Reranking  │\n",
    "│             │           │             │\n",
    "└─────────────┘           └─────────────┘\n",
    "```\n",
    "\n",
    "**Example:**\n",
    "\n",
    "```text\n",
    "Dense retrieval → top 100 candidates → BM25 rerank → top 10 results\n",
    "```"
   ]
  },
  {
   "cell_type": "code",
   "execution_count": 13,
   "id": "fca2a5b9",
   "metadata": {},
   "outputs": [
    {
     "data": {
      "text/plain": [
       "True"
      ]
     },
     "execution_count": 13,
     "metadata": {},
     "output_type": "execute_result"
    }
   ],
   "source": [
    "client.create_collection(\n",
    "    collection_name=sparseAndDense_collection_name, \n",
    "    vectors_config={\n",
    "        'jina-small': models.VectorParams(\n",
    "            size=embedding_dim, \n",
    "            distance=models.Distance.COSINE\n",
    "        )\n",
    "    }, \n",
    "    sparse_vectors_config={\n",
    "        'bm25': models.SparseVectorParams(\n",
    "            modifier=models.Modifier.IDF\n",
    "        )\n",
    "    }\n",
    ")"
   ]
  },
  {
   "cell_type": "code",
   "execution_count": 17,
   "id": "0b4b06bf",
   "metadata": {},
   "outputs": [
    {
     "name": "stderr",
     "output_type": "stream",
     "text": [
      "Fetching 5 files: 100%|██████████| 5/5 [00:09<00:00,  1.82s/it]\n"
     ]
    },
    {
     "data": {
      "text/plain": [
       "UpdateResult(operation_id=0, status=<UpdateStatus.COMPLETED: 'completed'>)"
      ]
     },
     "execution_count": 17,
     "metadata": {},
     "output_type": "execute_result"
    }
   ],
   "source": [
    "client.upsert(\n",
    "    collection_name=sparseAndDense_collection_name, \n",
    "    points=[\n",
    "        models.PointStruct(\n",
    "            id=uuid.uuid4().hex, \n",
    "            vector={\n",
    "                'jina-small': models.Document(\n",
    "                    text=doc['text'], \n",
    "                    model=embedding_model_handle\n",
    "                ), \n",
    "                'bm25': models.Document(\n",
    "                    text=doc['text'], \n",
    "                    model=sparse_model_handle\n",
    "                )\n",
    "            }, \n",
    "            payload=doc\n",
    "        )\n",
    "        for doc in documents\n",
    "    ]\n",
    ")"
   ]
  },
  {
   "cell_type": "code",
   "execution_count": 18,
   "id": "f88e3c39",
   "metadata": {},
   "outputs": [],
   "source": [
    "def multi_stage_search(query, limit=1):\n",
    "    results = client.query_points(\n",
    "        collection_name=sparseAndDense_collection_name, \n",
    "        prefetch=[\n",
    "            models.Prefetch(\n",
    "                query=models.Document(text=query, model=embedding_model_handle), \n",
    "                using='jina-small', \n",
    "                limit=10*limit\n",
    "            )\n",
    "        ], \n",
    "        query=models.Document(text=query, model=sparse_model_handle), \n",
    "        using='bm25', \n",
    "        limit=limit, \n",
    "        with_payload=True\n",
    "    )\n",
    "    return results.points"
   ]
  },
  {
   "cell_type": "code",
   "execution_count": null,
   "id": "35dfbec5",
   "metadata": {},
   "outputs": [
    {
     "name": "stdout",
     "output_type": "stream",
     "text": [
      "{\n",
      "  \"text\": \"Failed to save '<file>': Unable to write file 'vscode-remote://ssh-remote+de-zoomcamp/home/<user>/data_engineering_course/week_2/airflow/dags/<file>' (NoPermissions (FileSystemError): Error: EACCES: permission denied, open '/home/<user>/data_engineering_course/week_2/airflow/dags/<file>')\\nYou need to change the owner of the files you are trying to edit via VS Code. You can run the following command to change the ownership.\\nssh\\nsudo chown -R <user> <path to your directory>\",\n",
      "  \"section\": \"Module 1: Docker and Terraform\",\n",
      "  \"question\": \"GCP VM - Error while saving the file in VM via VS Code\",\n",
      "  \"course\": \"data-engineering-zoomcamp\"\n",
      "}\n",
      "\n",
      "Hybrid Search Result:\n",
      "Failed to save '<file>': Unable to write file 'vscode-remote://ssh-remote+de-zoomcamp/home/<user>/data_engineering_course/week_2/airflow/dags/<file>' (NoPermissions (FileSystemError): Error: EACCES: permission denied, open '/home/<user>/data_engineering_course/week_2/airflow/dags/<file>')\n",
      "You need to change the owner of the files you are trying to edit via VS Code. You can run the following command to change the ownership.\n",
      "ssh\n",
      "sudo chown -R <user> <path to your directory>\n"
     ]
    }
   ],
   "source": [
    "random.seed(1)\n",
    "random_doc = random.choice(documents)\n",
    "print(json.dumps(random_doc, indent=2))\n",
    "print(f\"\\nHybrid Search Result:\\n{multi_stage_search(random_doc['question'])[0].payload['text']}\")"
   ]
  },
  {
   "cell_type": "markdown",
   "id": "4224185c",
   "metadata": {},
   "source": [
    "**Fusion Search** combines results from multiple retrieval methods by **merging their scores** into a final ranking.\n",
    "* Usually **parallel retrieval**: dense and sparse both return results independently, then a formula combines their scores.\n",
    "* Focus is on **score aggregation**, not sequential reranking.\n",
    "\n",
    "The **Reciprocal Rank Fusion (RRF)** formula is:\n",
    "\n",
    "$$\n",
    "\\text{RRF}(d) = \\sum_{r \\in \\text{rankers}} \\frac{1}{k + \\text{rank}_r(d)}\n",
    "$$\n",
    "\n",
    "Where:\n",
    "\n",
    "* $d$ = document\n",
    "* $\\text{rank}_r(d)$ = the position (rank) of document $d$ in the results from ranker $r$ (1 = best)\n",
    "* $k$ = a constant (commonly $k = 60$) that ensures even low positions still get a small nonzero contribution.\n",
    "\n",
    "For the table below, with **two rankers** (dense and sparse) the formula is:\n",
    "\n",
    "$$\n",
    "\\text{RRF}(d) = \\frac{1}{k + \\text{rank}_{\\text{dense}}(d)} + \\frac{1}{k + \\text{rank}_{\\text{sparse}}(d)}\n",
    "$$\n",
    "\n",
    "**Example:**\n",
    "\n",
    "| Document | Dense ranking | Sparse ranking | RRF score | Final ranking |\n",
    "|----------|---------------|----------------|-----------|---------------|\n",
    "| D1       | **1**             | 5              | 0.0318    | 2             |\n",
    "| D2       | 2             | 4              | 0.0317    | 3             |\n",
    "| D3       | 3             | 2              | **0.0320**   | **1**             |\n",
    "| D4       | 4             | 3              | 0.0315    | 5             |\n",
    "| D5       | 5             | **1**              | 0.0318    | 2             |\n",
    "\n",
    "<br>\n",
    "\n",
    "→ **All fusion can be hybrid (in the broad sense)**, but **not all hybrid is fusion**."
   ]
  },
  {
   "cell_type": "code",
   "execution_count": 25,
   "id": "74c05049",
   "metadata": {},
   "outputs": [],
   "source": [
    "def fusion_search(query, limit=1):\n",
    "    results = client.query_points(\n",
    "        collection_name=sparseAndDense_collection_name, \n",
    "        prefetch=[\n",
    "            models.Prefetch(\n",
    "                query=models.Document(text=query, model=embedding_model_handle), \n",
    "                using='jina-small', \n",
    "                limit=5*limit\n",
    "            ), \n",
    "            models.Prefetch(\n",
    "                query=models.Document(text=query, model=sparse_model_handle), \n",
    "                using='bm25', \n",
    "                limit=5*limit\n",
    "            )\n",
    "        ], \n",
    "        query=models.FusionQuery(fusion=models.Fusion.RRF), \n",
    "        limit=limit, \n",
    "        with_payload=True\n",
    "    )\n",
    "    return results.points"
   ]
  },
  {
   "cell_type": "code",
   "execution_count": 30,
   "id": "788ad027",
   "metadata": {},
   "outputs": [
    {
     "name": "stdout",
     "output_type": "stream",
     "text": [
      "{\n",
      "  \"text\": \"Failed to save '<file>': Unable to write file 'vscode-remote://ssh-remote+de-zoomcamp/home/<user>/data_engineering_course/week_2/airflow/dags/<file>' (NoPermissions (FileSystemError): Error: EACCES: permission denied, open '/home/<user>/data_engineering_course/week_2/airflow/dags/<file>')\\nYou need to change the owner of the files you are trying to edit via VS Code. You can run the following command to change the ownership.\\nssh\\nsudo chown -R <user> <path to your directory>\",\n",
      "  \"section\": \"Module 1: Docker and Terraform\",\n",
      "  \"question\": \"GCP VM - Error while saving the file in VM via VS Code\",\n",
      "  \"course\": \"data-engineering-zoomcamp\"\n",
      "}\n",
      "\n",
      "Fusion Search Result:\n",
      "Failed to save '<file>': Unable to write file 'vscode-remote://ssh-remote+de-zoomcamp/home/<user>/data_engineering_course/week_2/airflow/dags/<file>' (NoPermissions (FileSystemError): Error: EACCES: permission denied, open '/home/<user>/data_engineering_course/week_2/airflow/dags/<file>')\n",
      "You need to change the owner of the files you are trying to edit via VS Code. You can run the following command to change the ownership.\n",
      "ssh\n",
      "sudo chown -R <user> <path to your directory>\n"
     ]
    }
   ],
   "source": [
    "random.seed(1)\n",
    "random_doc = random.choice(documents)\n",
    "print(json.dumps(random_doc, indent=2))\n",
    "print(f\"\\nFusion Search Result:\\n{fusion_search(random_doc['question'])[0].payload['text']}\")"
   ]
  },
  {
   "cell_type": "code",
   "execution_count": null,
   "id": "bcb5e828",
   "metadata": {},
   "outputs": [],
   "source": []
  }
 ],
 "metadata": {
  "kernelspec": {
   "display_name": "Python 3",
   "language": "python",
   "name": "python3"
  },
  "language_info": {
   "codemirror_mode": {
    "name": "ipython",
    "version": 3
   },
   "file_extension": ".py",
   "mimetype": "text/x-python",
   "name": "python",
   "nbconvert_exporter": "python",
   "pygments_lexer": "ipython3",
   "version": "3.12.1"
  }
 },
 "nbformat": 4,
 "nbformat_minor": 5
}
