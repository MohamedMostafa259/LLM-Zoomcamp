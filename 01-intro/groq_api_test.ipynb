{
 "cells": [
  {
   "cell_type": "code",
   "execution_count": null,
   "id": "0",
   "metadata": {},
   "outputs": [],
   "source": [
    "from dotenv import load_dotenv\n",
    "import os\n",
    "from openai import OpenAI"
   ]
  },
  {
   "cell_type": "code",
   "execution_count": null,
   "id": "1",
   "metadata": {},
   "outputs": [],
   "source": [
    "load_dotenv()  # loads .env into os.environ\n",
    "groq_api_key = os.getenv(\"GROQ_API_KEY\")\n",
    "# print(groq_api_key)"
   ]
  },
  {
   "cell_type": "code",
   "execution_count": null,
   "id": "2",
   "metadata": {},
   "outputs": [],
   "source": [
    "# Groq is compatible with the same client\n",
    "client = OpenAI(\n",
    "\tapi_key=groq_api_key, \n",
    "\tbase_url=\"https://api.groq.com/openai/v1\"\n",
    ")\n",
    "\n",
    "response = client.chat.completions.create(\n",
    "\tmodel=\"meta-llama/llama-4-scout-17b-16e-instruct\", # for other models, check https://console.groq.com/docs/models\n",
    "\tmessages=[\n",
    "\t\t{\"role\": \"user\", \"content\": \"Explain what is RAG\"}\n",
    "\t]\n",
    ")"
   ]
  },
  {
   "cell_type": "code",
   "execution_count": null,
   "id": "3",
   "metadata": {},
   "outputs": [],
   "source": [
    "print(response.choices[0].message.content)"
   ]
  },
  {
   "cell_type": "markdown",
   "id": "4",
   "metadata": {},
   "source": [
    "### What are Tokens?\n",
    "\n",
    "- Tokens are the basic units of text that a language model (like GPT or LLaMA) processes. \n",
    "\n",
    "- They are not always words. \n",
    "\n",
    "- Typically, **1 token ~ 0.75 words**. In other words, 1000 tokens ~ 750 words."
   ]
  },
  {
   "cell_type": "code",
   "execution_count": null,
   "id": "5",
   "metadata": {},
   "outputs": [],
   "source": [
    "import tiktoken"
   ]
  },
  {
   "cell_type": "code",
   "execution_count": null,
   "id": "6",
   "metadata": {},
   "outputs": [],
   "source": [
    "encoding = tiktoken.encoding_for_model(\"gpt-3.5\")\n",
    "encoding"
   ]
  },
  {
   "cell_type": "code",
   "execution_count": null,
   "id": "7",
   "metadata": {},
   "outputs": [],
   "source": [
    "tokens = encoding.encode(\"What is the difference between RAG and AI Agents?\")\n",
    "print('Tokens:', tokens)\n",
    "print('Number of tokens:', len(tokens))\n",
    "print('Decoded tokens:', encoding.decode_tokens_bytes(tokens))"
   ]
  },
  {
   "cell_type": "code",
   "execution_count": null,
   "id": "8",
   "metadata": {},
   "outputs": [],
   "source": [
    "encoding = tiktoken.encoding_for_model(\"gpt-4o\")\n",
    "encoding"
   ]
  },
  {
   "cell_type": "code",
   "execution_count": null,
   "id": "9",
   "metadata": {},
   "outputs": [],
   "source": [
    "tokens = encoding.encode(\"What is the difference between RAG and AI Agents?\")\n",
    "print('Tokens:', tokens)\n",
    "print('Number of tokens:', len(tokens))\n",
    "print('Decoded tokens:', encoding.decode_tokens_bytes(tokens))"
   ]
  }
 ],
 "metadata": {
  "kernelspec": {
   "display_name": "Python 3",
   "language": "python",
   "name": "python3"
  },
  "language_info": {
   "codemirror_mode": {
    "name": "ipython",
    "version": 3
   },
   "file_extension": ".py",
   "mimetype": "text/x-python",
   "name": "python",
   "nbconvert_exporter": "python",
   "pygments_lexer": "ipython3",
   "version": "3.12.1"
  }
 },
 "nbformat": 4,
 "nbformat_minor": 5
}
